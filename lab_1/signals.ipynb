{
 "cells": [
  {
   "cell_type": "markdown",
   "metadata": {},
   "source": [
    "# Wstęp do multimediów - Laboratorium 1\n",
    "\n",
    "```\n",
    "Bartłomiej Krawczyk\n",
    "310774\n",
    "\n",
    "Grupa 103\n",
    "```"
   ]
  },
  {
   "cell_type": "markdown",
   "metadata": {},
   "source": [
    "# Funkcje pomocnicze"
   ]
  },
  {
   "cell_type": "code",
   "execution_count": 88,
   "metadata": {},
   "outputs": [],
   "source": [
    "import numpy as np\n",
    "from matplotlib import pyplot as plt\n",
    "from typing import List\n",
    "from numpy import typing as npt"
   ]
  },
  {
   "cell_type": "markdown",
   "metadata": {},
   "source": [
    "Zdefiniowałem funkcje wykorzystywane do wyliczania widma, widma amplitudowego i widma fazowego sygnału dyskretnego (zdefiniowanego jako lista wartości)."
   ]
  },
  {
   "cell_type": "code",
   "execution_count": 89,
   "metadata": {},
   "outputs": [],
   "source": [
    "def calculate_spectrum(signal: List[float]) -> npt.NDArray[np.cdouble]:\n",
    "    return np.fft.fft(signal) / len(signal) # type: ignore"
   ]
  },
  {
   "cell_type": "code",
   "execution_count": 90,
   "metadata": {},
   "outputs": [],
   "source": [
    "def calculate_amplitude_spectrum(signal: List[float]) -> npt.NDArray[np.float64]:\n",
    "    spectrum = calculate_spectrum(signal)\n",
    "    return np.abs(spectrum)\n"
   ]
  },
  {
   "cell_type": "code",
   "execution_count": 91,
   "metadata": {},
   "outputs": [],
   "source": [
    "def calculate_phase_spectrum(signal: List[float])  -> npt.NDArray[np.float64]:\n",
    "    spectrum = calculate_spectrum(signal)\n",
    "    return np.angle(spectrum) # type: ignore\n"
   ]
  },
  {
   "cell_type": "markdown",
   "metadata": {},
   "source": [
    "# Zadanie 1\n",
    "Dane są dwa sygnały o okresie podstawowym `N = 4`:\n",
    "- `s1 = {2,0,1,3}`\n",
    "- `s2 = {1,0,3,0}`"
   ]
  },
  {
   "cell_type": "code",
   "execution_count": 92,
   "metadata": {},
   "outputs": [],
   "source": [
    "period = 4\n",
    "signal_1 = [2.0, 0.0, 1.0, 3.0]\n",
    "signal_2 = [1.0, 0.0, 3.0, 0.0]"
   ]
  },
  {
   "cell_type": "markdown",
   "metadata": {},
   "source": [
    "### a) Dla każdego sygnału:\n",
    "- wyznaczyć i wykreślić widmo amplitudowe i fazowe, \n",
    "- obliczyć moc sygnału \n",
    "- sprawdzić słuszność twierdzenia Parsevala."
   ]
  },
  {
   "cell_type": "code",
   "execution_count": 93,
   "metadata": {},
   "outputs": [],
   "source": [
    "def signal_description_1(signal: List[float]) -> None:\n",
    "    \n",
    "    amplitude_spectrum = calculate_amplitude_spectrum(signal)\n",
    "    plt.stem(amplitude_spectrum) # type: ignore\n",
    "    plt.title(\"Amplitude Spectrum\")\n",
    "    plt.show()\n",
    "    \n",
    "    phase_spectrum = calculate_phase_spectrum(signal)\n",
    "    plt.stem(phase_spectrum) # type: ignore\n",
    "    plt.title(\"Phase Spectrum\")\n",
    "    plt.show()\n",
    "\n",
    "    power = calculate_power(signal)\n",
    "    print(f'{power = }')\n",
    "    perseval_power = calculate_power_perseval(signal)\n",
    "    print(f'{perseval_power = }\\n')\n",
    "\n",
    "    print(f'{(power == perseval_power) = }')\n"
   ]
  },
  {
   "cell_type": "code",
   "execution_count": 94,
   "metadata": {},
   "outputs": [],
   "source": [
    "def calculate_power(signal: List[float]) -> float:\n",
    "    return sum([ x ** 2 for x in signal]) / len(signal)\n"
   ]
  },
  {
   "cell_type": "code",
   "execution_count": 95,
   "metadata": {},
   "outputs": [],
   "source": [
    "def calculate_power_perseval(signal: List[float]) -> float:\n",
    "    spectrum = calculate_spectrum(signal)\n",
    "    return sum([np.abs(x) ** 2 for x in spectrum])\n"
   ]
  },
  {
   "cell_type": "markdown",
   "metadata": {},
   "source": [
    "### Dane wyznaczone dla 1 sygnału"
   ]
  },
  {
   "cell_type": "code",
   "execution_count": 96,
   "metadata": {},
   "outputs": [
    {
     "data": {
      "image/png": "[encoded data removed]",
      "text/plain": [
       "<Figure size 432x288 with 1 Axes>"
      ]
     },
     "metadata": {
      "needs_background": "light"
     },
     "output_type": "display_data"
    },
    {
     "data": {
      "image/png": "[encoded data removed]",
      "text/plain": [
       "<Figure size 432x288 with 1 Axes>"
      ]
     },
     "metadata": {
      "needs_background": "light"
     },
     "output_type": "display_data"
    },
    {
     "name": "stdout",
     "output_type": "stream",
     "text": [
      "power = 3.5\n",
      "perseval_power = 3.5\n",
      "\n",
      "(power == perseval_power) = True\n"
     ]
    }
   ],
   "source": [
    "signal_description_1(signal_1)"
   ]
  },
  {
   "cell_type": "markdown",
   "metadata": {},
   "source": [
    "### Dane wyznaczone dla 2 sygnału"
   ]
  },
  {
   "cell_type": "code",
   "execution_count": 97,
   "metadata": {},
   "outputs": [
    {
     "data": {
      "image/png": "[encoded data removed]",
      "text/plain": [
       "<Figure size 432x288 with 1 Axes>"
      ]
     },
     "metadata": {
      "needs_background": "light"
     },
     "output_type": "display_data"
    },
    {
     "data": {
      "image/png": "[encoded data removed]",
      "text/plain": [
       "<Figure size 432x288 with 1 Axes>"
      ]
     },
     "metadata": {
      "needs_background": "light"
     },
     "output_type": "display_data"
    },
    {
     "name": "stdout",
     "output_type": "stream",
     "text": [
      "power = 2.5\n",
      "perseval_power = 2.5\n",
      "\n",
      "(power == perseval_power) = True\n"
     ]
    }
   ],
   "source": [
    "signal_description_1(signal_2)"
   ]
  },
  {
   "cell_type": "markdown",
   "metadata": {},
   "source": [
    "Dla powyższych przykładów twierdzenie Parsevala jest prawdziwe."
   ]
  },
  {
   "cell_type": "markdown",
   "metadata": {},
   "source": [
    "### b) Sprawdzić słuszność twierdzenia o dyskretnej transformacji Fouriera splotu kołowego sygnałów `s1` i `s2`: \n",
    "- wyznaczyć ręcznie splot kołowy sygnałów `s1` i `s2`, \n",
    "- a następnie wyznaczyć ten splot ponownie za pomocą dyskretnej transformacji Fouriera."
   ]
  },
  {
   "cell_type": "markdown",
   "metadata": {},
   "source": [
    "Metoda \"ręcznego\" wyznaczania splotu kołowego:"
   ]
  },
  {
   "cell_type": "code",
   "execution_count": 98,
   "metadata": {},
   "outputs": [],
   "source": [
    "def calculate_circular_convolution(signal_1: List[float], signal_2: List[float]) -> List[float]:\n",
    "    assert(len(signal_1) == len(signal_2))\n",
    "\n",
    "    convolution = [0.0] * len(signal_1)\n",
    "\n",
    "    for n in range(len(convolution)):\n",
    "        for m in range(len(convolution)):\n",
    "            convolution[n] += signal_1[m] * signal_2[n - m]\n",
    "            \n",
    "    return convolution"
   ]
  },
  {
   "cell_type": "markdown",
   "metadata": {},
   "source": [
    "Metoda wyznaczania splotu kołowego za pomocą dyskretnej transformacji Fouriera:"
   ]
  },
  {
   "cell_type": "code",
   "execution_count": 99,
   "metadata": {},
   "outputs": [],
   "source": [
    "def calculate_circular_convolution_fft(signal_1: List[float], signal_2: List[float]) -> npt.NDArray[np.cdouble]:\n",
    "    return np.fft.ifft(np.fft.fft(signal_1) * np.fft.fft(signal_2)) # type: ignore"
   ]
  },
  {
   "cell_type": "code",
   "execution_count": 100,
   "metadata": {},
   "outputs": [
    {
     "name": "stdout",
     "output_type": "stream",
     "text": [
      "convolution_by_hand = [5.0, 9.0, 7.0, 3.0]\n",
      "convolution_fft = array([5.+0.j, 9.+0.j, 7.+0.j, 3.+0.j])\n",
      "\n",
      "(convolution_by_hand == convolution_fft) = array([ True,  True,  True,  True])\n"
     ]
    }
   ],
   "source": [
    "convolution_by_hand = calculate_circular_convolution(signal_1, signal_2)\n",
    "convolution_fft = calculate_circular_convolution_fft(signal_1, signal_2)\n",
    "print(f'{convolution_by_hand = }')\n",
    "print(f'{convolution_fft = }\\n')\n",
    "\n",
    "print(f'{(convolution_by_hand == convolution_fft) = }') # type: ignore"
   ]
  },
  {
   "cell_type": "markdown",
   "metadata": {},
   "source": [
    "Metoda \"ręczna\" wyznaczania splotu kołowego sygnałów oraz ta za pomocą dyskretnej transformacji Fouriera produkują takie same wyniki."
   ]
  },
  {
   "cell_type": "markdown",
   "metadata": {},
   "source": [
    "# Zadanie 2\n",
    "Zbadać wpływ przesunięcia w czasie na postać widma amplitudowego i widma fazowego dyskretnego sygnału harmonicznego:\n",
    "\n",
    "`s(n) = A sin(2 pi n / N)`\n",
    "- o amplitudzie `A = 4`\n",
    "- i okresie podstawowym `N = 52`.\n",
    "\n",
    "W tym celu dla każdej wartości:\n",
    "- `no = {0, N/4, N/2, 3N/4}`\n",
    "\n",
    "wykreślić widmo amplitudowe i fazowe przesuniętego sygnału `s(n - no)`. \n",
    "\n",
    "Skomentować otrzymane wyniki."
   ]
  },
  {
   "cell_type": "code",
   "execution_count": 101,
   "metadata": {},
   "outputs": [],
   "source": [
    "A = 4\n",
    "N = 52\n",
    "signal = [A * np.sin(2 * np.pi * n / N) for n in range(N)]"
   ]
  },
  {
   "cell_type": "code",
   "execution_count": 102,
   "metadata": {},
   "outputs": [],
   "source": [
    "def signal_description_2(signal: List[float]) -> None:\n",
    "    spectrum = calculate_spectrum(signal)\n",
    "\n",
    "    amplitude_spectrum = calculate_amplitude_spectrum(signal)\n",
    "    phase_spectrum = calculate_phase_spectrum(signal)\n",
    "\n",
    "    for i in range(len(spectrum)):\n",
    "        if np.abs(phase_spectrum[i]) < 1e-6:\n",
    "            phase_spectrum[i] = 0\n",
    "            \n",
    "        if amplitude_spectrum[i] < 1e-6:\n",
    "            amplitude_spectrum[i] = 0\n",
    "            phase_spectrum[i] = 0\n",
    "        \n",
    "\n",
    "    plt.stem(amplitude_spectrum) # type: ignore\n",
    "    plt.title('Amplitude Spectrum')\n",
    "    plt.show()\n",
    "\n",
    "    plt.stem(phase_spectrum) # type: ignore\n",
    "    plt.title('Phase Spectrum')\n",
    "    plt.show()\n"
   ]
  },
  {
   "cell_type": "code",
   "execution_count": 103,
   "metadata": {},
   "outputs": [],
   "source": [
    "def shift_signal(signal: List[float], index: int) -> List[float]:\n",
    "    return signal[index:] + signal[:index]"
   ]
  },
  {
   "cell_type": "markdown",
   "metadata": {},
   "source": [
    "### Widmo amplitudowe i fazowe sygnału s(n) przesuniętego o 0"
   ]
  },
  {
   "cell_type": "code",
   "execution_count": 104,
   "metadata": {},
   "outputs": [
    {
     "data": {
      "image/png": "[encoded data removed]",
      "text/plain": [
       "<Figure size 432x288 with 1 Axes>"
      ]
     },
     "metadata": {
      "needs_background": "light"
     },
     "output_type": "display_data"
    },
    {
     "data": {
      "image/png": "[encoded data removed]",
      "text/plain": [
       "<Figure size 432x288 with 1 Axes>"
      ]
     },
     "metadata": {
      "needs_background": "light"
     },
     "output_type": "display_data"
    }
   ],
   "source": [
    "signal_description_2(shift_signal(signal, 0))"
   ]
  },
  {
   "cell_type": "markdown",
   "metadata": {},
   "source": [
    "### Widmo amplitudowe i fazowe sygnału s(n) przesuniętego o N/4"
   ]
  },
  {
   "cell_type": "code",
   "execution_count": 105,
   "metadata": {},
   "outputs": [
    {
     "data": {
      "image/png": "[encoded data removed]",
      "text/plain": [
       "<Figure size 432x288 with 1 Axes>"
      ]
     },
     "metadata": {
      "needs_background": "light"
     },
     "output_type": "display_data"
    },
    {
     "data": {
      "image/png": "[encoded data removed]",
      "text/plain": [
       "<Figure size 432x288 with 1 Axes>"
      ]
     },
     "metadata": {
      "needs_background": "light"
     },
     "output_type": "display_data"
    }
   ],
   "source": [
    "signal_description_2(shift_signal(signal, N // 4))"
   ]
  },
  {
   "cell_type": "markdown",
   "metadata": {},
   "source": [
    "### Widmo amplitudowe i fazowe sygnału s(n) przesuniętego o N/2"
   ]
  },
  {
   "cell_type": "code",
   "execution_count": 106,
   "metadata": {},
   "outputs": [
    {
     "data": {
      "image/png": "[encoded data removed]",
      "text/plain": [
       "<Figure size 432x288 with 1 Axes>"
      ]
     },
     "metadata": {
      "needs_background": "light"
     },
     "output_type": "display_data"
    },
    {
     "data": {
      "image/png": "[encoded data removed]",
      "text/plain": [
       "<Figure size 432x288 with 1 Axes>"
      ]
     },
     "metadata": {
      "needs_background": "light"
     },
     "output_type": "display_data"
    }
   ],
   "source": [
    "signal_description_2(shift_signal(signal, N // 2))"
   ]
  },
  {
   "cell_type": "markdown",
   "metadata": {},
   "source": [
    "### Widmo amplitudowe i fazowe sygnału s(n) przesuniętego o 3N/4"
   ]
  },
  {
   "cell_type": "code",
   "execution_count": 107,
   "metadata": {},
   "outputs": [
    {
     "data": {
      "image/png": "[encoded data removed]",
      "text/plain": [
       "<Figure size 432x288 with 1 Axes>"
      ]
     },
     "metadata": {
      "needs_background": "light"
     },
     "output_type": "display_data"
    },
    {
     "data": {
      "image/png": "[encoded data removed]",
      "text/plain": [
       "<Figure size 432x288 with 1 Axes>"
      ]
     },
     "metadata": {
      "needs_background": "light"
     },
     "output_type": "display_data"
    }
   ],
   "source": [
    "signal_description_2(shift_signal(signal, 3 * N // 4))"
   ]
  },
  {
   "cell_type": "markdown",
   "metadata": {},
   "source": [
    "## Wnioski\n",
    "\n",
    "Osiągnięte wyniki zdają się zgadzać ze wzorem na przesunięcie sygnału w dziedzinie czasu:\n",
    "\n",
    "`x(n - no) <-DFT-> X(k) * e ^ (-j * k * (2pi/N) * no)`\n",
    "\n",
    "gdzie\n",
    "\n",
    "`x(n) <-DFT-> X(k)`\n",
    "\n",
    "### Wpływ na widmo amplitudowe:\n",
    "\n",
    "Przesunięcie w dziedzinie czasu nie powoduje zmiany widma amplitudowego, ponieważ widmo (liczbę zespoloną) obracamy jedynie wokół punktu `0 + 0j` (odpowiada za to potęga liczby `e`), a amplituda to odległość tego widma od tego punktu.\n",
    "\n",
    "### Wpływ na widmo fazowe:\n",
    "\n",
    "Widmo fazowe zmienia się wraz z przesunięciem w dziedzinie czasu.\n",
    "\n",
    "Z wzoru wynika, że dla kolejnych wartości przesunięcia `{0, N/4, N/2, 3N/4}` widmo fazowe powinno być przesunięte o `k * pi/2` i tak właśnie wychodzi na wykresach.\n",
    "\n",
    "```\n",
    "e^0 = 1\n",
    "e^(-jk * pi/2) = (-j) ^ k\n",
    "e^(-jk * pi) = (-1) ^ k\n",
    "e^(-jk * 3pi/2) = (j) ^ k\n",
    "```\n",
    "### Sprawdzenie czy wyniki zgadzają się z teorią w punktach widma różnych od 0 + 0j\n",
    "\n",
    "dla k = 1 widmo fazowe kolejno przyjmuje wartości (przesunięte o pi/2):\n",
    "\n",
    "-pi/2 => 0 => pi/2 => pi\n",
    "\n",
    "a dla k = N - 1 widmo fazowe kolejno przyjmuje wartości (przesunięte o 3pi/2):\n",
    "\n",
    "pi/2 => 0 => -pi/2 => -pi"
   ]
  },
  {
   "cell_type": "markdown",
   "metadata": {},
   "source": [
    "# Zadanie 3\n",
    "Zbadać wpływ dopełnienia zerami na postać widma amplitudowego i widma fazowego dyskretnego sygnału:\n",
    "\n",
    "`s(n) = A (n mod N) / N`\n",
    "- o amplitudzie A = 3 \n",
    "- i okresie podstawowym N = 11.\n",
    "\n",
    "W tym celu dla każdej wartości \n",
    "\n",
    "`No = { 0, 1N, 4N, 9N }` \n",
    "\n",
    "wykreślić widmo amplitudowe i fazowe sygnału `s(n)`dopełnionego `No` zerami. \n",
    "\n",
    "Skomentować otrzymane wyniki."
   ]
  },
  {
   "cell_type": "code",
   "execution_count": 108,
   "metadata": {},
   "outputs": [],
   "source": [
    "A = 3 # type: ignore\n",
    "N = 11  # type: ignore\n",
    "signal = [A * (n % N) / N for n in range(N)]"
   ]
  },
  {
   "cell_type": "code",
   "execution_count": 109,
   "metadata": {},
   "outputs": [],
   "source": [
    "def signal_description_3(signal: List[float]) -> None:\n",
    "\n",
    "    amplitude_spectrum = calculate_amplitude_spectrum(signal)\n",
    "    plt.stem(amplitude_spectrum)  # type: ignore\n",
    "    plt.title('Amplitude Spectrum')\n",
    "    plt.show()\n",
    "\n",
    "    phase_spectrum = calculate_phase_spectrum(signal)\n",
    "    plt.stem(phase_spectrum)  # type: ignore\n",
    "    plt.title('Phase Spectrum')\n",
    "    plt.show()"
   ]
  },
  {
   "cell_type": "code",
   "execution_count": 110,
   "metadata": {},
   "outputs": [],
   "source": [
    "def add_zeros(signal: List[float], zeros: int) -> List[float]:\n",
    "    return signal + [0.0] * zeros"
   ]
  },
  {
   "cell_type": "markdown",
   "metadata": {},
   "source": [
    "### Wykresy widma amplitudowego i fazowego sygnału s(n) dopełnionego 0 zerami"
   ]
  },
  {
   "cell_type": "code",
   "execution_count": 111,
   "metadata": {},
   "outputs": [
    {
     "data": {
      "image/png": "[encoded data removed]",
      "text/plain": [
       "<Figure size 432x288 with 1 Axes>"
      ]
     },
     "metadata": {
      "needs_background": "light"
     },
     "output_type": "display_data"
    },
    {
     "data": {
      "image/png": "[encoded data removed]",
      "text/plain": [
       "<Figure size 432x288 with 1 Axes>"
      ]
     },
     "metadata": {
      "needs_background": "light"
     },
     "output_type": "display_data"
    }
   ],
   "source": [
    "signal_description_3(add_zeros(signal, 0))"
   ]
  },
  {
   "cell_type": "markdown",
   "metadata": {},
   "source": [
    "### Wykresy widma amplitudowego i fazowego sygnału s(n) dopełnionego N zerami"
   ]
  },
  {
   "cell_type": "code",
   "execution_count": 112,
   "metadata": {},
   "outputs": [
    {
     "data": {
      "image/png": "[encoded data removed]",
      "text/plain": [
       "<Figure size 432x288 with 1 Axes>"
      ]
     },
     "metadata": {
      "needs_background": "light"
     },
     "output_type": "display_data"
    },
    {
     "data": {
      "image/png": "[encoded data removed]",
      "text/plain": [
       "<Figure size 432x288 with 1 Axes>"
      ]
     },
     "metadata": {
      "needs_background": "light"
     },
     "output_type": "display_data"
    }
   ],
   "source": [
    "signal_description_3(add_zeros(signal, N))"
   ]
  },
  {
   "cell_type": "markdown",
   "metadata": {},
   "source": [
    "### Wykresy widma amplitudowego i fazowego sygnału s(n) dopełnionego 4N zerami"
   ]
  },
  {
   "cell_type": "code",
   "execution_count": 113,
   "metadata": {},
   "outputs": [
    {
     "data": {
      "image/png": "[encoded data removed]",
      "text/plain": [
       "<Figure size 432x288 with 1 Axes>"
      ]
     },
     "metadata": {
      "needs_background": "light"
     },
     "output_type": "display_data"
    },
    {
     "data": {
      "image/png": "[encoded data removed]",
      "text/plain": [
       "<Figure size 432x288 with 1 Axes>"
      ]
     },
     "metadata": {
      "needs_background": "light"
     },
     "output_type": "display_data"
    }
   ],
   "source": [
    "signal_description_3(add_zeros(signal, 4 * N))\n"
   ]
  },
  {
   "cell_type": "markdown",
   "metadata": {},
   "source": [
    "### Wykresy widma amplitudowego i fazowego sygnału s(n) dopełnionego 9N zerami"
   ]
  },
  {
   "cell_type": "code",
   "execution_count": 114,
   "metadata": {},
   "outputs": [
    {
     "data": {
      "image/png": "[encoded data removed]",
      "text/plain": [
       "<Figure size 432x288 with 1 Axes>"
      ]
     },
     "metadata": {
      "needs_background": "light"
     },
     "output_type": "display_data"
    },
    {
     "data": {
      "image/png": "[encoded data removed]",
      "text/plain": [
       "<Figure size 432x288 with 1 Axes>"
      ]
     },
     "metadata": {
      "needs_background": "light"
     },
     "output_type": "display_data"
    }
   ],
   "source": [
    "signal_description_3(add_zeros(signal, 9 * N))"
   ]
  },
  {
   "cell_type": "markdown",
   "metadata": {},
   "source": [
    "## Wnioski\n",
    "\n",
    "Dopełnienie sygnału zerami zwiększa liczbę próbek widmowych przypadająca na jeden okres widma `(added_zeros + N)` razy. Otrzymane widma są bardziej \"zagęszczone\".\n",
    "\n",
    "Nie dostajemy większej ilości danych (bo wartości będą interpolowane), ale uzupełniając sygnał zerami jesteśmy w stanie zwiększayć rozdzielczość wyliczanej dyskretnej transformaty Fouriera."
   ]
  },
  {
   "cell_type": "markdown",
   "metadata": {},
   "source": [
    "# Zadanie 4\n",
    "Dany jest sygnał rzeczywisty \n",
    "\n",
    "`s(t) = A1 sin(2 pi f1 t) + A2 sin(2 pi f2 t) + A3 sin(2 pi f3 t)`,\n",
    "\n",
    "gdzie \n",
    "- `A1 = 0.3`, `f1 = 5000 Hz`, \n",
    "- `A2 = 0.4`, `f2 = 6000 Hz`, \n",
    "- `A3 = 0.5`, `f3 = 11000 Hz`. \n",
    "\n",
    "Przy założeniu, że częstotliwość próbkowania wynosi `fs = 48000 Hz`, a liczba próbek sygnału wynosi `N1 = 2048` , przedstawić wykres\n",
    "widmowej gęstości mocy sygnału `s(t)`.\n",
    "\n",
    "Czy dla podanej liczby próbek mamy do czynienia ze zjawiskiem przecieku widma? \n",
    "\n",
    "Czy sytuacja uległaby zmianie dla liczby próbek `N2 = 3 * N1 / 2`?\n",
    "\n",
    "Odpowiedź uzasadnić."
   ]
  },
  {
   "cell_type": "code",
   "execution_count": 115,
   "metadata": {},
   "outputs": [],
   "source": [
    "A1 = 0.3\n",
    "f1 = 5000\n",
    "\n",
    "A2 = 0.4\n",
    "f2 = 6000\n",
    "\n",
    "A3 = 0.5\n",
    "f3 = 11000\n",
    "\n",
    "fs = 48000\n",
    "\n",
    "N1 = 2048\n",
    "N2 = 3 * N1 // 2"
   ]
  },
  {
   "cell_type": "code",
   "execution_count": 116,
   "metadata": {},
   "outputs": [],
   "source": [
    "def signal_val(t: float):\n",
    "    return  A1 * np.sin(2 * np.pi * f1 * t) + \\\n",
    "            A2 * np.sin(2 * np.pi * f2 * t) + \\\n",
    "            A3 * np.sin(2 * np.pi * f3 * t)\n"
   ]
  },
  {
   "cell_type": "markdown",
   "metadata": {},
   "source": [
    "Maksymalną częstotliwością jest:\n",
    "\n",
    "fm = 11000 Hz\n",
    "\n",
    "Z tego wynika, że częstotliwość Nyquista to:\n",
    "\n",
    "fN = 22000 Hz\n",
    "\n",
    "Warunek Nyquista jest spełniony:\n",
    "\n",
    "fs > fN\n",
    "\n",
    "Poszczególne segmenty widma nie nachodzą na siebie. Możliwe jest odtworzenie sygnału analogowego z ciągu próbek."
   ]
  },
  {
   "cell_type": "code",
   "execution_count": 117,
   "metadata": {},
   "outputs": [],
   "source": [
    "def calculate_spectrum_power_density(signal: List[float]) -> List[float]:\n",
    "    # Note: \n",
    "    # According to numpy.fft.rfft docs\n",
    "    # This function does not compute the negative frequency terms\n",
    "    # So we have to multiply all values by 2 (except the first one)\n",
    "    # or calculate numpy.fft.fft and add negative terms to positive ones\n",
    "    \n",
    "    spectrum_power_density = [\n",
    "        2 * np.abs(val / len(signal))  # type: ignore\n",
    "        for val in np.fft.rfft(signal)  # type: ignore\n",
    "    ]\n",
    "    spectrum_power_density[0] = spectrum_power_density[0] / 2\n",
    "\n",
    "    return spectrum_power_density\n"
   ]
  },
  {
   "cell_type": "code",
   "execution_count": 118,
   "metadata": {},
   "outputs": [],
   "source": [
    "def signal_description_4(signal: List[float]) -> None:\n",
    "    power = calculate_spectrum_power_density(signal)\n",
    "    delta_f = fs / len(signal)\n",
    "    plt.stem([i * delta_f for i in range(len(power))], power) # type: ignore\n",
    "    plt.show()\n"
   ]
  },
  {
   "cell_type": "markdown",
   "metadata": {},
   "source": [
    "### Wykres widmowej gęstości mocy spróbkowanego sygnału s(t) przy liczbie próbek równej N1 = 2048"
   ]
  },
  {
   "cell_type": "code",
   "execution_count": 119,
   "metadata": {},
   "outputs": [
    {
     "data": {
      "image/png": "[encoded data removed]",
      "text/plain": [
       "<Figure size 432x288 with 1 Axes>"
      ]
     },
     "metadata": {
      "needs_background": "light"
     },
     "output_type": "display_data"
    }
   ],
   "source": [
    "signal_description_4([signal_val(n / fs) for n in range(N1)])"
   ]
  },
  {
   "cell_type": "markdown",
   "metadata": {},
   "source": [
    "### Wykres widmowej gęstości mocy spróbkowanego sygnału s(t) przy liczbie próbek równej N2 = 3072"
   ]
  },
  {
   "cell_type": "code",
   "execution_count": 120,
   "metadata": {},
   "outputs": [
    {
     "data": {
      "image/png": "[encoded data removed]",
      "text/plain": [
       "<Figure size 432x288 with 1 Axes>"
      ]
     },
     "metadata": {
      "needs_background": "light"
     },
     "output_type": "display_data"
    }
   ],
   "source": [
    "signal_description_4([signal_val(n / fs) for n in range(N2)])"
   ]
  },
  {
   "cell_type": "markdown",
   "metadata": {},
   "source": [
    "### Dodatkowe obliczenia"
   ]
  },
  {
   "cell_type": "code",
   "execution_count": 121,
   "metadata": {},
   "outputs": [
    {
     "name": "stdout",
     "output_type": "stream",
     "text": [
      "window = 48.0\n",
      "(N1 % window == 0) = False\n",
      "(N2 % window == 0) = True\n"
     ]
    }
   ],
   "source": [
    "frequency = np.gcd.reduce([f1, f2, f3]) # type: ignore\n",
    "window = fs / frequency # (1 / frequency) / (1 / fs)\n",
    "print(f'{window = }')\n",
    "print(f'{(N1 % window == 0) = }')\n",
    "print(f'{(N2 % window == 0) = }')"
   ]
  },
  {
   "cell_type": "code",
   "execution_count": 122,
   "metadata": {},
   "outputs": [
    {
     "data": {
      "image/png": "[encoded data removed]",
      "text/plain": [
       "<Figure size 432x288 with 1 Axes>"
      ]
     },
     "metadata": {
      "needs_background": "light"
     },
     "output_type": "display_data"
    }
   ],
   "source": [
    "signal_description_4([signal_val(n / fs) for n in range(int(window))])"
   ]
  },
  {
   "cell_type": "markdown",
   "metadata": {},
   "source": [
    "### Czy dla podanej liczby próbek mamy do czynienia ze zjawiskiem przecieku widma? \n",
    "\n",
    "Tak, moc z 3 prążków \"rozlewa\" się na inne częstotliwości.\n",
    "\n",
    "### Czy sytuacja uległaby zmianie dla liczby próbek `N2 = 3 * N1 / 2`?\n",
    "\n",
    "Tak, sytuacja ulega zmianie. Liczba N2 = 3072 jest podzielna przez zmienną `window` (48) dla danej częstotliwości `fs`.\n",
    "\n",
    "### Wnioski\n",
    "\n",
    "Przecieki widma są spowodowane nieciągłością przy zapętleniu okna analizy.\n",
    "\n",
    "Aby zapobiec przeciekowi widma, należy skończyć próbkowanie w tym samym miejscu okresu sygnału co zaczeliśmy próbkowanie."
   ]
  }
 ],
 "metadata": {
  "interpreter": {
   "hash": "916dbcbb3f70747c44a77c7bcd40155683ae19c65e1c03b4aa3499c5328201f1"
  },
  "kernelspec": {
   "display_name": "Python 3.8.10 64-bit",
   "language": "python",
   "name": "python3"
  },
  "language_info": {
   "codemirror_mode": {
    "name": "ipython",
    "version": 3
   },
   "file_extension": ".py",
   "mimetype": "text/x-python",
   "name": "python",
   "nbconvert_exporter": "python",
   "pygments_lexer": "ipython3",
   "version": "3.8.10"
  },
  "orig_nbformat": 4
 },
 "nbformat": 4,
 "nbformat_minor": 2
}
