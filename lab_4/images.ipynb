{
 "cells": [
  {
   "cell_type": "markdown",
   "metadata": {},
   "source": [
    "# Wstęp do multimediów - Laboratorium 4\n",
    "\n",
    "```\n",
    "Bartłomiej Krawczyk\n",
    "310774\n",
    "\n",
    "Grupa 103\n",
    "```"
   ]
  },
  {
   "cell_type": "markdown",
   "metadata": {},
   "source": [
    "W sprawozdaniu należy zamieścić wyniki uzyskane dla obrazu testowego, wybranego na podstawie numeru indeksu w następujący sposób: \n",
    "\n",
    "`numer_obrazu = numer_indeksu % liczba_obrazow`\n",
    "\n",
    "gdzie  numer  obrazu  wskazuje  pozycję pliku na posortowanej alfabetycznie liście nazw plików  testowych (pozycje numerowane od 0, tak jak elementy list w Pythonie), a % oznacza operację modulo). "
   ]
  },
  {
   "cell_type": "markdown",
   "metadata": {},
   "source": [
    "### Wylosowany obraz:"
   ]
  },
  {
   "cell_type": "code",
   "execution_count": 1,
   "metadata": {},
   "outputs": [
    {
     "name": "stdout",
     "output_type": "stream",
     "text": [
      "image_number = 22\n"
     ]
    }
   ],
   "source": [
    "image_number = 310774 % 36\n",
    "print(f'{image_number = }')"
   ]
  },
  {
   "cell_type": "markdown",
   "metadata": {},
   "source": [
    "Obraz o numerze 22 to `latarnia2_col.png`.\n",
    "\n",
    "![](./images/latarnia2_col.png)"
   ]
  },
  {
   "cell_type": "markdown",
   "metadata": {},
   "source": [
    "# Funkcje pomocnicze"
   ]
  },
  {
   "cell_type": "code",
   "execution_count": null,
   "metadata": {},
   "outputs": [],
   "source": []
  },
  {
   "cell_type": "markdown",
   "metadata": {},
   "source": [
    "# 1. Zrealizować operację filtracji barwnego obrazu cyfrowego.\n",
    "\n",
    "Do realizacji zadania wykorzystać obrazy zaszumione (szumem gaussowskim oraz impulsowym). \n",
    "\n",
    "- Każdy  z  obrazów  wejściowych  poddać  przetwarzaniu filtrem wygładzającym (Gaussa) i filtrem medianowym.\n",
    "- Każdy obraz wynikowy wyświetlić i obliczyć dla niego PSNR (w stosunku do obrazu oryginalnego,  nie  zaszumionego!,  funkcja do  obliczania PSNR  dostępna  jest  w  przykładowym skrypcie).\n",
    "- Ocenić działanie filtrów dla masek o rozmiarach: 3x3, 5x5, 7x7.  \n",
    "- Zebrać w tabeli PSNR dla różnych rodzajów szumów, filtrów i rozmiarów maski.  \n",
    " \n",
    "Jaki wpływ na skuteczność filtracji i na zniekształcenie obrazu ma rozmiar maski filtru?   \n",
    "\n",
    "Czy  ocena  subiektywna  uzyskanych obrazów wynikowych,  jest  zgodna  z  PSNR  (lepsza jakość – większy PSNR)?   \n",
    "\n",
    "Opisać wnioski w sprawozdaniu."
   ]
  },
  {
   "cell_type": "code",
   "execution_count": null,
   "metadata": {},
   "outputs": [],
   "source": []
  },
  {
   "cell_type": "markdown",
   "metadata": {},
   "source": [
    "# 2. Zrealizować operację wyrównania  histogramu  dla  obrazu  barwnego  i zapisać obraz wynikowy  do pliku.\n",
    "\n",
    "`UWAGA`:  operację  wyrównania  histogramu  należy  wykonać  wyłącznie  dla  składowej odpowiadającej  za  jasność,  w  tym  celu  należy  wejściowy  obraz RGB skonwertować  do  innej przestrzeni  (np.  YCbCr/YUV), a po wyrównaniu histogramu dla właściwej składowej powrócić do \n",
    "pierwotnego formatu.\n",
    "\n",
    "- Porównać uzyskane obrazy  i  ich  histogramy  (w szczególności: histogram dla składowej, dla której wykonano operację wyrównywania histogramu).   \n",
    "\n",
    "Czy obraz po wyrównaniu histogramu jest subiektywnie lepszej jakości?"
   ]
  },
  {
   "cell_type": "code",
   "execution_count": null,
   "metadata": {},
   "outputs": [],
   "source": []
  },
  {
   "cell_type": "markdown",
   "metadata": {},
   "source": [
    "# 3. Korzystając  z  filtru  Laplace’a do  wyznaczenia  wysokoczęstotliwościowych  składowych obrazu dokonać wyostrzenia obrazu:  \n",
    "\n",
    "`img_out = img_in + W*img_laplace`\n",
    "\n",
    "Jaki jest wpływ wagi składowej wysokoczęstotliwościowej na postać obrazu wynikowego?\n",
    "\n",
    "Dla jakich wartości tej wagi uzyskuje się dobre, przyjemne dla oka wyniki?   \n",
    "\n",
    "`Uwaga`: należy pamiętać, że wyostrzanie obrazu powoduje również uwydatnienie szumu w obrazie, w niektórych przypadkach (niezbyt dobrej jakości obrazów oryginalnych) przydatne może być wstępne wygładzenie obrazu filtrem dolnoprzepustowym (np. filtrem Gaussa).\n",
    "\n",
    "`Wskazówka`: wykorzystać funkcję cv2.addWeighted()  do sumowania  obrazów i równoczesnej konwersji wyniku do 8-bitowych liczb całkowitych z przedziału [0, 255].\n",
    "\n",
    "`Uwaga`:  ze  względu  na  sposób  wyliczania  laplasjanu  w bibliotece OpenCV w  celu  uzyskania ‘dobrych’ wyników  należy odjąć  ‘obraz  wysokoczęstotliwościowy’, czyli zastosować  ujemne wartości wagi W.  \n",
    " "
   ]
  },
  {
   "cell_type": "code",
   "execution_count": null,
   "metadata": {},
   "outputs": [],
   "source": []
  }
 ],
 "metadata": {
  "interpreter": {
   "hash": "916dbcbb3f70747c44a77c7bcd40155683ae19c65e1c03b4aa3499c5328201f1"
  },
  "kernelspec": {
   "display_name": "Python 3.8.10 64-bit",
   "language": "python",
   "name": "python3"
  },
  "language_info": {
   "codemirror_mode": {
    "name": "ipython",
    "version": 3
   },
   "file_extension": ".py",
   "mimetype": "text/x-python",
   "name": "python",
   "nbconvert_exporter": "python",
   "pygments_lexer": "ipython3",
   "version": "3.8.10"
  },
  "orig_nbformat": 4
 },
 "nbformat": 4,
 "nbformat_minor": 2
}
